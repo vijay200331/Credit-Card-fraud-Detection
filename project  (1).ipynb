{
 "cells": [
  {
   "cell_type": "code",
   "execution_count": 1,
   "id": "0c58798c",
   "metadata": {},
   "outputs": [],
   "source": [
    "import numpy as np   \n",
    "import pandas as pd "
   ]
  },
  {
   "cell_type": "markdown",
   "id": "e00edb20",
   "metadata": {},
   "source": [
    "# Load Dataset"
   ]
  },
  {
   "cell_type": "code",
   "execution_count": 2,
   "id": "481d5034",
   "metadata": {},
   "outputs": [
    {
     "data": {
      "text/html": [
       "<div>\n",
       "<style scoped>\n",
       "    .dataframe tbody tr th:only-of-type {\n",
       "        vertical-align: middle;\n",
       "    }\n",
       "\n",
       "    .dataframe tbody tr th {\n",
       "        vertical-align: top;\n",
       "    }\n",
       "\n",
       "    .dataframe thead th {\n",
       "        text-align: right;\n",
       "    }\n",
       "</style>\n",
       "<table border=\"1\" class=\"dataframe\">\n",
       "  <thead>\n",
       "    <tr style=\"text-align: right;\">\n",
       "      <th></th>\n",
       "      <th>Time</th>\n",
       "      <th>V1</th>\n",
       "      <th>V2</th>\n",
       "      <th>V3</th>\n",
       "      <th>V4</th>\n",
       "      <th>V5</th>\n",
       "      <th>V6</th>\n",
       "      <th>V7</th>\n",
       "      <th>V8</th>\n",
       "      <th>V9</th>\n",
       "      <th>...</th>\n",
       "      <th>V21</th>\n",
       "      <th>V22</th>\n",
       "      <th>V23</th>\n",
       "      <th>V24</th>\n",
       "      <th>V25</th>\n",
       "      <th>V26</th>\n",
       "      <th>V27</th>\n",
       "      <th>V28</th>\n",
       "      <th>Amount</th>\n",
       "      <th>Class</th>\n",
       "    </tr>\n",
       "  </thead>\n",
       "  <tbody>\n",
       "    <tr>\n",
       "      <th>0</th>\n",
       "      <td>64596.0</td>\n",
       "      <td>-1.258069</td>\n",
       "      <td>1.143487</td>\n",
       "      <td>1.534709</td>\n",
       "      <td>-0.082581</td>\n",
       "      <td>-0.136726</td>\n",
       "      <td>0.121832</td>\n",
       "      <td>0.438377</td>\n",
       "      <td>0.124788</td>\n",
       "      <td>0.798379</td>\n",
       "      <td>...</td>\n",
       "      <td>-0.105313</td>\n",
       "      <td>0.313656</td>\n",
       "      <td>-0.180436</td>\n",
       "      <td>0.239458</td>\n",
       "      <td>0.141641</td>\n",
       "      <td>0.390568</td>\n",
       "      <td>0.302016</td>\n",
       "      <td>0.070574</td>\n",
       "      <td>3.79</td>\n",
       "      <td>0</td>\n",
       "    </tr>\n",
       "    <tr>\n",
       "      <th>1</th>\n",
       "      <td>64596.0</td>\n",
       "      <td>-3.511196</td>\n",
       "      <td>-4.010017</td>\n",
       "      <td>0.005029</td>\n",
       "      <td>2.000773</td>\n",
       "      <td>1.395612</td>\n",
       "      <td>-0.267210</td>\n",
       "      <td>0.983225</td>\n",
       "      <td>0.316680</td>\n",
       "      <td>-0.614382</td>\n",
       "      <td>...</td>\n",
       "      <td>0.837741</td>\n",
       "      <td>0.648378</td>\n",
       "      <td>2.133180</td>\n",
       "      <td>-0.353039</td>\n",
       "      <td>-0.132556</td>\n",
       "      <td>-0.305320</td>\n",
       "      <td>0.138434</td>\n",
       "      <td>0.350209</td>\n",
       "      <td>702.87</td>\n",
       "      <td>0</td>\n",
       "    </tr>\n",
       "    <tr>\n",
       "      <th>2</th>\n",
       "      <td>64596.0</td>\n",
       "      <td>1.108539</td>\n",
       "      <td>0.247769</td>\n",
       "      <td>1.044287</td>\n",
       "      <td>2.414754</td>\n",
       "      <td>-0.607787</td>\n",
       "      <td>-0.016459</td>\n",
       "      <td>-0.445858</td>\n",
       "      <td>0.241531</td>\n",
       "      <td>-0.440120</td>\n",
       "      <td>...</td>\n",
       "      <td>0.175196</td>\n",
       "      <td>0.358236</td>\n",
       "      <td>-0.053834</td>\n",
       "      <td>0.292676</td>\n",
       "      <td>0.343305</td>\n",
       "      <td>0.084936</td>\n",
       "      <td>-0.003799</td>\n",
       "      <td>0.016838</td>\n",
       "      <td>10.65</td>\n",
       "      <td>0</td>\n",
       "    </tr>\n",
       "    <tr>\n",
       "      <th>3</th>\n",
       "      <td>64596.0</td>\n",
       "      <td>1.157029</td>\n",
       "      <td>0.274859</td>\n",
       "      <td>0.387850</td>\n",
       "      <td>0.573217</td>\n",
       "      <td>-0.209966</td>\n",
       "      <td>-0.390377</td>\n",
       "      <td>-0.078646</td>\n",
       "      <td>0.059234</td>\n",
       "      <td>-0.270853</td>\n",
       "      <td>...</td>\n",
       "      <td>-0.193257</td>\n",
       "      <td>-0.551314</td>\n",
       "      <td>0.169881</td>\n",
       "      <td>0.188678</td>\n",
       "      <td>0.092090</td>\n",
       "      <td>0.093543</td>\n",
       "      <td>-0.008921</td>\n",
       "      <td>0.019575</td>\n",
       "      <td>1.29</td>\n",
       "      <td>0</td>\n",
       "    </tr>\n",
       "    <tr>\n",
       "      <th>4</th>\n",
       "      <td>64596.0</td>\n",
       "      <td>1.146760</td>\n",
       "      <td>1.132315</td>\n",
       "      <td>-1.529868</td>\n",
       "      <td>1.539633</td>\n",
       "      <td>0.888153</td>\n",
       "      <td>-1.178248</td>\n",
       "      <td>0.528649</td>\n",
       "      <td>-0.054473</td>\n",
       "      <td>-0.565206</td>\n",
       "      <td>...</td>\n",
       "      <td>-0.129857</td>\n",
       "      <td>-0.326769</td>\n",
       "      <td>-0.153466</td>\n",
       "      <td>-0.129527</td>\n",
       "      <td>0.691954</td>\n",
       "      <td>-0.291078</td>\n",
       "      <td>0.046054</td>\n",
       "      <td>0.083167</td>\n",
       "      <td>0.89</td>\n",
       "      <td>0</td>\n",
       "    </tr>\n",
       "  </tbody>\n",
       "</table>\n",
       "<p>5 rows × 31 columns</p>\n",
       "</div>"
      ],
      "text/plain": [
       "      Time        V1        V2        V3        V4        V5        V6  \\\n",
       "0  64596.0 -1.258069  1.143487  1.534709 -0.082581 -0.136726  0.121832   \n",
       "1  64596.0 -3.511196 -4.010017  0.005029  2.000773  1.395612 -0.267210   \n",
       "2  64596.0  1.108539  0.247769  1.044287  2.414754 -0.607787 -0.016459   \n",
       "3  64596.0  1.157029  0.274859  0.387850  0.573217 -0.209966 -0.390377   \n",
       "4  64596.0  1.146760  1.132315 -1.529868  1.539633  0.888153 -1.178248   \n",
       "\n",
       "         V7        V8        V9  ...       V21       V22       V23       V24  \\\n",
       "0  0.438377  0.124788  0.798379  ... -0.105313  0.313656 -0.180436  0.239458   \n",
       "1  0.983225  0.316680 -0.614382  ...  0.837741  0.648378  2.133180 -0.353039   \n",
       "2 -0.445858  0.241531 -0.440120  ...  0.175196  0.358236 -0.053834  0.292676   \n",
       "3 -0.078646  0.059234 -0.270853  ... -0.193257 -0.551314  0.169881  0.188678   \n",
       "4  0.528649 -0.054473 -0.565206  ... -0.129857 -0.326769 -0.153466 -0.129527   \n",
       "\n",
       "        V25       V26       V27       V28  Amount  Class  \n",
       "0  0.141641  0.390568  0.302016  0.070574    3.79      0  \n",
       "1 -0.132556 -0.305320  0.138434  0.350209  702.87      0  \n",
       "2  0.343305  0.084936 -0.003799  0.016838   10.65      0  \n",
       "3  0.092090  0.093543 -0.008921  0.019575    1.29      0  \n",
       "4  0.691954 -0.291078  0.046054  0.083167    0.89      0  \n",
       "\n",
       "[5 rows x 31 columns]"
      ]
     },
     "execution_count": 2,
     "metadata": {},
     "output_type": "execute_result"
    }
   ],
   "source": [
    "data = pd.read_csv(\"newcreditcard.csv\")\n",
    "data.head()"
   ]
  },
  {
   "cell_type": "code",
   "execution_count": 3,
   "id": "b4477c80",
   "metadata": {},
   "outputs": [
    {
     "data": {
      "text/plain": [
       "(132387, 31)"
      ]
     },
     "execution_count": 3,
     "metadata": {},
     "output_type": "execute_result"
    }
   ],
   "source": [
    "data.shape"
   ]
  },
  {
   "cell_type": "code",
   "execution_count": 4,
   "id": "f5c6ddfe",
   "metadata": {},
   "outputs": [
    {
     "data": {
      "text/plain": [
       "0"
      ]
     },
     "execution_count": 4,
     "metadata": {},
     "output_type": "execute_result"
    }
   ],
   "source": [
    "data.isnull().sum().sum()"
   ]
  },
  {
   "cell_type": "markdown",
   "id": "8971c196",
   "metadata": {},
   "source": [
    "# Data cleaning¶\n"
   ]
  },
  {
   "cell_type": "code",
   "execution_count": 5,
   "id": "bfeb1cea",
   "metadata": {},
   "outputs": [
    {
     "name": "stdout",
     "output_type": "stream",
     "text": [
      "<class 'pandas.core.frame.DataFrame'>\n",
      "RangeIndex: 132387 entries, 0 to 132386\n",
      "Data columns (total 31 columns):\n",
      " #   Column  Non-Null Count   Dtype  \n",
      "---  ------  --------------   -----  \n",
      " 0   Time    132387 non-null  float64\n",
      " 1   V1      132387 non-null  float64\n",
      " 2   V2      132387 non-null  float64\n",
      " 3   V3      132387 non-null  float64\n",
      " 4   V4      132387 non-null  float64\n",
      " 5   V5      132387 non-null  float64\n",
      " 6   V6      132387 non-null  float64\n",
      " 7   V7      132387 non-null  float64\n",
      " 8   V8      132387 non-null  float64\n",
      " 9   V9      132387 non-null  float64\n",
      " 10  V10     132387 non-null  float64\n",
      " 11  V11     132387 non-null  float64\n",
      " 12  V12     132387 non-null  float64\n",
      " 13  V13     132387 non-null  float64\n",
      " 14  V14     132387 non-null  float64\n",
      " 15  V15     132387 non-null  float64\n",
      " 16  V16     132387 non-null  float64\n",
      " 17  V17     132387 non-null  float64\n",
      " 18  V18     132387 non-null  float64\n",
      " 19  V19     132387 non-null  float64\n",
      " 20  V20     132387 non-null  float64\n",
      " 21  V21     132387 non-null  float64\n",
      " 22  V22     132387 non-null  float64\n",
      " 23  V23     132387 non-null  float64\n",
      " 24  V24     132387 non-null  float64\n",
      " 25  V25     132387 non-null  float64\n",
      " 26  V26     132387 non-null  float64\n",
      " 27  V27     132387 non-null  float64\n",
      " 28  V28     132387 non-null  float64\n",
      " 29  Amount  132387 non-null  float64\n",
      " 30  Class   132387 non-null  int64  \n",
      "dtypes: float64(30), int64(1)\n",
      "memory usage: 31.3 MB\n"
     ]
    }
   ],
   "source": [
    "data.info()\n"
   ]
  },
  {
   "cell_type": "code",
   "execution_count": 6,
   "id": "7f0991c8",
   "metadata": {},
   "outputs": [
    {
     "data": {
      "text/plain": [
       "<Axes: title={'center': 'Class'}>"
      ]
     },
     "execution_count": 6,
     "metadata": {},
     "output_type": "execute_result"
    },
    {
     "data": {
      "image/png": "[encoded data removed]",
      "text/plain": [
       "<Figure size 1700x600 with 1 Axes>"
      ]
     },
     "metadata": {},
     "output_type": "display_data"
    }
   ],
   "source": [
    "import matplotlib.pyplot as plt\n",
    "plt.figure(figsize=(17,6))\n",
    "data['Class'].value_counts().plot(kind='pie',autopct='%0.2f%%',ylabel='',title='Class')"
   ]
  },
  {
   "cell_type": "code",
   "execution_count": 7,
   "id": "e9a12fdb",
   "metadata": {},
   "outputs": [
    {
     "data": {
      "text/plain": [
       "0    132177\n",
       "1       210\n",
       "Name: Class, dtype: int64"
      ]
     },
     "execution_count": 7,
     "metadata": {},
     "output_type": "execute_result"
    }
   ],
   "source": [
    "data['Class'].value_counts()\n"
   ]
  },
  {
   "cell_type": "markdown",
   "id": "f4995ccd",
   "metadata": {},
   "source": [
    "# Split Data into 75% - 25%¶\n"
   ]
  },
  {
   "cell_type": "code",
   "execution_count": 8,
   "id": "0be368c3",
   "metadata": {},
   "outputs": [
    {
     "data": {
      "text/html": [
       "<div>\n",
       "<style scoped>\n",
       "    .dataframe tbody tr th:only-of-type {\n",
       "        vertical-align: middle;\n",
       "    }\n",
       "\n",
       "    .dataframe tbody tr th {\n",
       "        vertical-align: top;\n",
       "    }\n",
       "\n",
       "    .dataframe thead th {\n",
       "        text-align: right;\n",
       "    }\n",
       "</style>\n",
       "<table border=\"1\" class=\"dataframe\">\n",
       "  <thead>\n",
       "    <tr style=\"text-align: right;\">\n",
       "      <th></th>\n",
       "      <th>Time</th>\n",
       "      <th>V1</th>\n",
       "      <th>V2</th>\n",
       "      <th>V3</th>\n",
       "      <th>V4</th>\n",
       "      <th>V5</th>\n",
       "      <th>V6</th>\n",
       "      <th>V7</th>\n",
       "      <th>V8</th>\n",
       "      <th>V9</th>\n",
       "      <th>...</th>\n",
       "      <th>V20</th>\n",
       "      <th>V21</th>\n",
       "      <th>V22</th>\n",
       "      <th>V23</th>\n",
       "      <th>V24</th>\n",
       "      <th>V25</th>\n",
       "      <th>V26</th>\n",
       "      <th>V27</th>\n",
       "      <th>V28</th>\n",
       "      <th>Amount</th>\n",
       "    </tr>\n",
       "  </thead>\n",
       "  <tbody>\n",
       "    <tr>\n",
       "      <th>75505</th>\n",
       "      <td>137759.0</td>\n",
       "      <td>-0.791601</td>\n",
       "      <td>1.093123</td>\n",
       "      <td>1.162261</td>\n",
       "      <td>-0.453528</td>\n",
       "      <td>0.089344</td>\n",
       "      <td>0.780264</td>\n",
       "      <td>-0.648475</td>\n",
       "      <td>-2.666524</td>\n",
       "      <td>0.369721</td>\n",
       "      <td>...</td>\n",
       "      <td>0.839898</td>\n",
       "      <td>-1.077983</td>\n",
       "      <td>1.427035</td>\n",
       "      <td>-0.124350</td>\n",
       "      <td>0.640984</td>\n",
       "      <td>-0.269115</td>\n",
       "      <td>-0.226157</td>\n",
       "      <td>0.265610</td>\n",
       "      <td>0.052029</td>\n",
       "      <td>23.67</td>\n",
       "    </tr>\n",
       "    <tr>\n",
       "      <th>71480</th>\n",
       "      <td>135945.0</td>\n",
       "      <td>2.056111</td>\n",
       "      <td>0.226806</td>\n",
       "      <td>-2.549189</td>\n",
       "      <td>0.343245</td>\n",
       "      <td>0.754797</td>\n",
       "      <td>-1.361831</td>\n",
       "      <td>0.617996</td>\n",
       "      <td>-0.301381</td>\n",
       "      <td>0.174257</td>\n",
       "      <td>...</td>\n",
       "      <td>-0.302576</td>\n",
       "      <td>0.063452</td>\n",
       "      <td>0.210677</td>\n",
       "      <td>-0.059733</td>\n",
       "      <td>-0.518185</td>\n",
       "      <td>0.360537</td>\n",
       "      <td>-0.155060</td>\n",
       "      <td>-0.053403</td>\n",
       "      <td>-0.059577</td>\n",
       "      <td>11.00</td>\n",
       "    </tr>\n",
       "    <tr>\n",
       "      <th>44383</th>\n",
       "      <td>123773.0</td>\n",
       "      <td>-1.713529</td>\n",
       "      <td>-1.519104</td>\n",
       "      <td>0.954941</td>\n",
       "      <td>-1.262049</td>\n",
       "      <td>1.326979</td>\n",
       "      <td>-0.916081</td>\n",
       "      <td>-0.556128</td>\n",
       "      <td>0.294847</td>\n",
       "      <td>1.017324</td>\n",
       "      <td>...</td>\n",
       "      <td>-0.273965</td>\n",
       "      <td>0.373301</td>\n",
       "      <td>0.917068</td>\n",
       "      <td>0.078244</td>\n",
       "      <td>0.776340</td>\n",
       "      <td>-0.739655</td>\n",
       "      <td>-0.263774</td>\n",
       "      <td>0.053947</td>\n",
       "      <td>0.397463</td>\n",
       "      <td>74.95</td>\n",
       "    </tr>\n",
       "    <tr>\n",
       "      <th>111896</th>\n",
       "      <td>157570.0</td>\n",
       "      <td>1.863499</td>\n",
       "      <td>-0.572458</td>\n",
       "      <td>-0.622973</td>\n",
       "      <td>0.048740</td>\n",
       "      <td>0.131644</td>\n",
       "      <td>1.347478</td>\n",
       "      <td>-0.880721</td>\n",
       "      <td>0.581114</td>\n",
       "      <td>1.220860</td>\n",
       "      <td>...</td>\n",
       "      <td>-0.367471</td>\n",
       "      <td>-0.103714</td>\n",
       "      <td>-0.117954</td>\n",
       "      <td>0.382130</td>\n",
       "      <td>-1.706261</td>\n",
       "      <td>-0.624584</td>\n",
       "      <td>-0.506151</td>\n",
       "      <td>0.073775</td>\n",
       "      <td>-0.060863</td>\n",
       "      <td>3.99</td>\n",
       "    </tr>\n",
       "    <tr>\n",
       "      <th>105647</th>\n",
       "      <td>154041.0</td>\n",
       "      <td>-1.051261</td>\n",
       "      <td>0.567725</td>\n",
       "      <td>0.505168</td>\n",
       "      <td>-1.176316</td>\n",
       "      <td>1.797533</td>\n",
       "      <td>-0.415460</td>\n",
       "      <td>0.761620</td>\n",
       "      <td>0.188755</td>\n",
       "      <td>-0.563004</td>\n",
       "      <td>...</td>\n",
       "      <td>-0.015088</td>\n",
       "      <td>-0.323703</td>\n",
       "      <td>-1.239475</td>\n",
       "      <td>-0.297277</td>\n",
       "      <td>-0.046014</td>\n",
       "      <td>0.616950</td>\n",
       "      <td>0.227729</td>\n",
       "      <td>-0.084127</td>\n",
       "      <td>0.056803</td>\n",
       "      <td>1.29</td>\n",
       "    </tr>\n",
       "  </tbody>\n",
       "</table>\n",
       "<p>5 rows × 30 columns</p>\n",
       "</div>"
      ],
      "text/plain": [
       "            Time        V1        V2        V3        V4        V5        V6  \\\n",
       "75505   137759.0 -0.791601  1.093123  1.162261 -0.453528  0.089344  0.780264   \n",
       "71480   135945.0  2.056111  0.226806 -2.549189  0.343245  0.754797 -1.361831   \n",
       "44383   123773.0 -1.713529 -1.519104  0.954941 -1.262049  1.326979 -0.916081   \n",
       "111896  157570.0  1.863499 -0.572458 -0.622973  0.048740  0.131644  1.347478   \n",
       "105647  154041.0 -1.051261  0.567725  0.505168 -1.176316  1.797533 -0.415460   \n",
       "\n",
       "              V7        V8        V9  ...       V20       V21       V22  \\\n",
       "75505  -0.648475 -2.666524  0.369721  ...  0.839898 -1.077983  1.427035   \n",
       "71480   0.617996 -0.301381  0.174257  ... -0.302576  0.063452  0.210677   \n",
       "44383  -0.556128  0.294847  1.017324  ... -0.273965  0.373301  0.917068   \n",
       "111896 -0.880721  0.581114  1.220860  ... -0.367471 -0.103714 -0.117954   \n",
       "105647  0.761620  0.188755 -0.563004  ... -0.015088 -0.323703 -1.239475   \n",
       "\n",
       "             V23       V24       V25       V26       V27       V28  Amount  \n",
       "75505  -0.124350  0.640984 -0.269115 -0.226157  0.265610  0.052029   23.67  \n",
       "71480  -0.059733 -0.518185  0.360537 -0.155060 -0.053403 -0.059577   11.00  \n",
       "44383   0.078244  0.776340 -0.739655 -0.263774  0.053947  0.397463   74.95  \n",
       "111896  0.382130 -1.706261 -0.624584 -0.506151  0.073775 -0.060863    3.99  \n",
       "105647 -0.297277 -0.046014  0.616950  0.227729 -0.084127  0.056803    1.29  \n",
       "\n",
       "[5 rows x 30 columns]"
      ]
     },
     "execution_count": 8,
     "metadata": {},
     "output_type": "execute_result"
    }
   ],
   "source": [
    "from sklearn.model_selection import train_test_split\n",
    "x = data.drop(['Class'], axis = 1)\n",
    "y = data['Class']\n",
    "x_train , x_test , y_train , y_test = train_test_split(x , y , test_size = 30 , random_state = 6000)\n",
    "x_train[:5]"
   ]
  },
  {
   "cell_type": "markdown",
   "id": "e73b4d0e",
   "metadata": {},
   "source": [
    "# Scaling data¶\n"
   ]
  },
  {
   "cell_type": "code",
   "execution_count": 9,
   "id": "b4017be4",
   "metadata": {},
   "outputs": [],
   "source": [
    "from sklearn.preprocessing import StandardScaler, MinMaxScaler\n",
    "sc = StandardScaler()\n",
    "msc = MinMaxScaler()\n",
    "x_train = msc.fit_transform(x_train)\n",
    "x_test = msc.fit_transform(x_test)"
   ]
  },
  {
   "cell_type": "markdown",
   "id": "0e66310c",
   "metadata": {},
   "source": [
    "# Logistic regression¶\n"
   ]
  },
  {
   "cell_type": "code",
   "execution_count": 10,
   "id": "c357d50f",
   "metadata": {},
   "outputs": [
    {
     "name": "stdout",
     "output_type": "stream",
     "text": [
      "0.8333333333333334\n"
     ]
    }
   ],
   "source": [
    "from sklearn.linear_model import LogisticRegression\n",
    "lr = LogisticRegression()\n",
    "lr.fit(x_train, y_train)\n",
    "\n",
    "yhat = lr.predict(x_test)\n",
    "print(lr.score(x_test, y_test))\n"
   ]
  },
  {
   "cell_type": "code",
   "execution_count": 11,
   "id": "6b2745b3",
   "metadata": {},
   "outputs": [
    {
     "name": "stdout",
     "output_type": "stream",
     "text": [
      "Accuracy score:  0.8333333333333334\n",
      "Recall score:  0.8333333333333334\n",
      "Precision score:  0.8333333333333334\n",
      "F1 score:  0.8333333333333334\n"
     ]
    }
   ],
   "source": [
    "from sklearn.metrics import accuracy_score, recall_score, precision_score, f1_score\n",
    "from sklearn.metrics import accuracy_score,confusion_matrix\n",
    "\n",
    "print(\"Accuracy score: \" , accuracy_score(y_test,yhat))\n",
    "print(\"Recall score: \" ,recall_score(y_test,yhat, average='micro'))\n",
    "print(\"Precision score: \" ,precision_score(y_test,yhat , average='micro'))\n",
    "print(\"F1 score: \" ,f1_score(y_test,yhat , average='micro'))"
   ]
  },
  {
   "cell_type": "markdown",
   "id": "f86340e0",
   "metadata": {},
   "source": [
    "# Decision Tree Classification"
   ]
  },
  {
   "cell_type": "code",
   "execution_count": 12,
   "id": "903de158",
   "metadata": {},
   "outputs": [],
   "source": [
    "from sklearn.tree import DecisionTreeClassifier"
   ]
  },
  {
   "cell_type": "code",
   "execution_count": 13,
   "id": "e995c2b7",
   "metadata": {},
   "outputs": [
    {
     "data": {
      "text/html": [
       "<style>#sk-container-id-1 {color: black;}#sk-container-id-1 pre{padding: 0;}#sk-container-id-1 div.sk-toggleable {background-color: white;}#sk-container-id-1 label.sk-toggleable__label {cursor: pointer;display: block;width: 100%;margin-bottom: 0;padding: 0.3em;box-sizing: border-box;text-align: center;}#sk-container-id-1 label.sk-toggleable__label-arrow:before {content: \"▸\";float: left;margin-right: 0.25em;color: #696969;}#sk-container-id-1 label.sk-toggleable__label-arrow:hover:before {color: black;}#sk-container-id-1 div.sk-estimator:hover label.sk-toggleable__label-arrow:before {color: black;}#sk-container-id-1 div.sk-toggleable__content {max-height: 0;max-width: 0;overflow: hidden;text-align: left;background-color: #f0f8ff;}#sk-container-id-1 div.sk-toggleable__content pre {margin: 0.2em;color: black;border-radius: 0.25em;background-color: #f0f8ff;}#sk-container-id-1 input.sk-toggleable__control:checked~div.sk-toggleable__content {max-height: 200px;max-width: 100%;overflow: auto;}#sk-container-id-1 input.sk-toggleable__control:checked~label.sk-toggleable__label-arrow:before {content: \"▾\";}#sk-container-id-1 div.sk-estimator input.sk-toggleable__control:checked~label.sk-toggleable__label {background-color: #d4ebff;}#sk-container-id-1 div.sk-label input.sk-toggleable__control:checked~label.sk-toggleable__label {background-color: #d4ebff;}#sk-container-id-1 input.sk-hidden--visually {border: 0;clip: rect(1px 1px 1px 1px);clip: rect(1px, 1px, 1px, 1px);height: 1px;margin: -1px;overflow: hidden;padding: 0;position: absolute;width: 1px;}#sk-container-id-1 div.sk-estimator {font-family: monospace;background-color: #f0f8ff;border: 1px dotted black;border-radius: 0.25em;box-sizing: border-box;margin-bottom: 0.5em;}#sk-container-id-1 div.sk-estimator:hover {background-color: #d4ebff;}#sk-container-id-1 div.sk-parallel-item::after {content: \"\";width: 100%;border-bottom: 1px solid gray;flex-grow: 1;}#sk-container-id-1 div.sk-label:hover label.sk-toggleable__label {background-color: #d4ebff;}#sk-container-id-1 div.sk-serial::before {content: \"\";position: absolute;border-left: 1px solid gray;box-sizing: border-box;top: 0;bottom: 0;left: 50%;z-index: 0;}#sk-container-id-1 div.sk-serial {display: flex;flex-direction: column;align-items: center;background-color: white;padding-right: 0.2em;padding-left: 0.2em;position: relative;}#sk-container-id-1 div.sk-item {position: relative;z-index: 1;}#sk-container-id-1 div.sk-parallel {display: flex;align-items: stretch;justify-content: center;background-color: white;position: relative;}#sk-container-id-1 div.sk-item::before, #sk-container-id-1 div.sk-parallel-item::before {content: \"\";position: absolute;border-left: 1px solid gray;box-sizing: border-box;top: 0;bottom: 0;left: 50%;z-index: -1;}#sk-container-id-1 div.sk-parallel-item {display: flex;flex-direction: column;z-index: 1;position: relative;background-color: white;}#sk-container-id-1 div.sk-parallel-item:first-child::after {align-self: flex-end;width: 50%;}#sk-container-id-1 div.sk-parallel-item:last-child::after {align-self: flex-start;width: 50%;}#sk-container-id-1 div.sk-parallel-item:only-child::after {width: 0;}#sk-container-id-1 div.sk-dashed-wrapped {border: 1px dashed gray;margin: 0 0.4em 0.5em 0.4em;box-sizing: border-box;padding-bottom: 0.4em;background-color: white;}#sk-container-id-1 div.sk-label label {font-family: monospace;font-weight: bold;display: inline-block;line-height: 1.2em;}#sk-container-id-1 div.sk-label-container {text-align: center;}#sk-container-id-1 div.sk-container {/* jupyter's `normalize.less` sets `[hidden] { display: none; }` but bootstrap.min.css set `[hidden] { display: none !important; }` so we also need the `!important` here to be able to override the default hidden behavior on the sphinx rendered scikit-learn.org. See: https://github.com/scikit-learn/scikit-learn/issues/21755 */display: inline-block !important;position: relative;}#sk-container-id-1 div.sk-text-repr-fallback {display: none;}</style><div id=\"sk-container-id-1\" class=\"sk-top-container\"><div class=\"sk-text-repr-fallback\"><pre>DecisionTreeClassifier()</pre><b>In a Jupyter environment, please rerun this cell to show the HTML representation or trust the notebook. <br />On GitHub, the HTML representation is unable to render, please try loading this page with nbviewer.org.</b></div><div class=\"sk-container\" hidden><div class=\"sk-item\"><div class=\"sk-estimator sk-toggleable\"><input class=\"sk-toggleable__control sk-hidden--visually\" id=\"sk-estimator-id-1\" type=\"checkbox\" checked><label for=\"sk-estimator-id-1\" class=\"sk-toggleable__label sk-toggleable__label-arrow\">DecisionTreeClassifier</label><div class=\"sk-toggleable__content\"><pre>DecisionTreeClassifier()</pre></div></div></div></div></div>"
      ],
      "text/plain": [
       "DecisionTreeClassifier()"
      ]
     },
     "execution_count": 13,
     "metadata": {},
     "output_type": "execute_result"
    }
   ],
   "source": [
    "classifier = DecisionTreeClassifier(criterion='gini')\n",
    "classifier.fit(x_train,y_train)"
   ]
  },
  {
   "cell_type": "code",
   "execution_count": 14,
   "id": "35c77d33",
   "metadata": {},
   "outputs": [
    {
     "data": {
      "text/plain": [
       "0.5333333333333333"
      ]
     },
     "execution_count": 14,
     "metadata": {},
     "output_type": "execute_result"
    }
   ],
   "source": [
    "classifier.score(x_test,y_test)"
   ]
  },
  {
   "cell_type": "markdown",
   "id": "27cfe5f7",
   "metadata": {},
   "source": [
    "# Random Forest Classification"
   ]
  },
  {
   "cell_type": "code",
   "execution_count": 15,
   "id": "85d77d7f",
   "metadata": {},
   "outputs": [],
   "source": [
    "from sklearn.ensemble import RandomForestClassifier"
   ]
  },
  {
   "cell_type": "code",
   "execution_count": 16,
   "id": "e22cd27a",
   "metadata": {},
   "outputs": [
    {
     "name": "stderr",
     "output_type": "stream",
     "text": [
      "\n",
      "KeyboardInterrupt\n",
      "\n"
     ]
    }
   ],
   "source": [
    "classifier = RandomForestClassifier(n_estimators=100,criterion='gini')\n",
    "classifier.fit(x_train,y_train)"
   ]
  },
  {
   "cell_type": "code",
   "execution_count": null,
   "id": "0e71b8f8",
   "metadata": {},
   "outputs": [],
   "source": [
    "classifier.score(x_test,y_test)"
   ]
  },
  {
   "cell_type": "markdown",
   "id": "86c32a7f",
   "metadata": {},
   "source": [
    "# Support vector Classification"
   ]
  },
  {
   "cell_type": "code",
   "execution_count": 17,
   "id": "cd0b015f",
   "metadata": {},
   "outputs": [],
   "source": [
    "from sklearn.svm import SVC"
   ]
  },
  {
   "cell_type": "code",
   "execution_count": 18,
   "id": "825883e4",
   "metadata": {},
   "outputs": [
    {
     "data": {
      "text/html": [
       "<style>#sk-container-id-2 {color: black;}#sk-container-id-2 pre{padding: 0;}#sk-container-id-2 div.sk-toggleable {background-color: white;}#sk-container-id-2 label.sk-toggleable__label {cursor: pointer;display: block;width: 100%;margin-bottom: 0;padding: 0.3em;box-sizing: border-box;text-align: center;}#sk-container-id-2 label.sk-toggleable__label-arrow:before {content: \"▸\";float: left;margin-right: 0.25em;color: #696969;}#sk-container-id-2 label.sk-toggleable__label-arrow:hover:before {color: black;}#sk-container-id-2 div.sk-estimator:hover label.sk-toggleable__label-arrow:before {color: black;}#sk-container-id-2 div.sk-toggleable__content {max-height: 0;max-width: 0;overflow: hidden;text-align: left;background-color: #f0f8ff;}#sk-container-id-2 div.sk-toggleable__content pre {margin: 0.2em;color: black;border-radius: 0.25em;background-color: #f0f8ff;}#sk-container-id-2 input.sk-toggleable__control:checked~div.sk-toggleable__content {max-height: 200px;max-width: 100%;overflow: auto;}#sk-container-id-2 input.sk-toggleable__control:checked~label.sk-toggleable__label-arrow:before {content: \"▾\";}#sk-container-id-2 div.sk-estimator input.sk-toggleable__control:checked~label.sk-toggleable__label {background-color: #d4ebff;}#sk-container-id-2 div.sk-label input.sk-toggleable__control:checked~label.sk-toggleable__label {background-color: #d4ebff;}#sk-container-id-2 input.sk-hidden--visually {border: 0;clip: rect(1px 1px 1px 1px);clip: rect(1px, 1px, 1px, 1px);height: 1px;margin: -1px;overflow: hidden;padding: 0;position: absolute;width: 1px;}#sk-container-id-2 div.sk-estimator {font-family: monospace;background-color: #f0f8ff;border: 1px dotted black;border-radius: 0.25em;box-sizing: border-box;margin-bottom: 0.5em;}#sk-container-id-2 div.sk-estimator:hover {background-color: #d4ebff;}#sk-container-id-2 div.sk-parallel-item::after {content: \"\";width: 100%;border-bottom: 1px solid gray;flex-grow: 1;}#sk-container-id-2 div.sk-label:hover label.sk-toggleable__label {background-color: #d4ebff;}#sk-container-id-2 div.sk-serial::before {content: \"\";position: absolute;border-left: 1px solid gray;box-sizing: border-box;top: 0;bottom: 0;left: 50%;z-index: 0;}#sk-container-id-2 div.sk-serial {display: flex;flex-direction: column;align-items: center;background-color: white;padding-right: 0.2em;padding-left: 0.2em;position: relative;}#sk-container-id-2 div.sk-item {position: relative;z-index: 1;}#sk-container-id-2 div.sk-parallel {display: flex;align-items: stretch;justify-content: center;background-color: white;position: relative;}#sk-container-id-2 div.sk-item::before, #sk-container-id-2 div.sk-parallel-item::before {content: \"\";position: absolute;border-left: 1px solid gray;box-sizing: border-box;top: 0;bottom: 0;left: 50%;z-index: -1;}#sk-container-id-2 div.sk-parallel-item {display: flex;flex-direction: column;z-index: 1;position: relative;background-color: white;}#sk-container-id-2 div.sk-parallel-item:first-child::after {align-self: flex-end;width: 50%;}#sk-container-id-2 div.sk-parallel-item:last-child::after {align-self: flex-start;width: 50%;}#sk-container-id-2 div.sk-parallel-item:only-child::after {width: 0;}#sk-container-id-2 div.sk-dashed-wrapped {border: 1px dashed gray;margin: 0 0.4em 0.5em 0.4em;box-sizing: border-box;padding-bottom: 0.4em;background-color: white;}#sk-container-id-2 div.sk-label label {font-family: monospace;font-weight: bold;display: inline-block;line-height: 1.2em;}#sk-container-id-2 div.sk-label-container {text-align: center;}#sk-container-id-2 div.sk-container {/* jupyter's `normalize.less` sets `[hidden] { display: none; }` but bootstrap.min.css set `[hidden] { display: none !important; }` so we also need the `!important` here to be able to override the default hidden behavior on the sphinx rendered scikit-learn.org. See: https://github.com/scikit-learn/scikit-learn/issues/21755 */display: inline-block !important;position: relative;}#sk-container-id-2 div.sk-text-repr-fallback {display: none;}</style><div id=\"sk-container-id-2\" class=\"sk-top-container\"><div class=\"sk-text-repr-fallback\"><pre>SVC()</pre><b>In a Jupyter environment, please rerun this cell to show the HTML representation or trust the notebook. <br />On GitHub, the HTML representation is unable to render, please try loading this page with nbviewer.org.</b></div><div class=\"sk-container\" hidden><div class=\"sk-item\"><div class=\"sk-estimator sk-toggleable\"><input class=\"sk-toggleable__control sk-hidden--visually\" id=\"sk-estimator-id-2\" type=\"checkbox\" checked><label for=\"sk-estimator-id-2\" class=\"sk-toggleable__label sk-toggleable__label-arrow\">SVC</label><div class=\"sk-toggleable__content\"><pre>SVC()</pre></div></div></div></div></div>"
      ],
      "text/plain": [
       "SVC()"
      ]
     },
     "execution_count": 18,
     "metadata": {},
     "output_type": "execute_result"
    }
   ],
   "source": [
    "classification_rbf = SVC(kernel='rbf')\n",
    "classification_rbf.fit(x_train,y_train)"
   ]
  },
  {
   "cell_type": "code",
   "execution_count": 19,
   "id": "fe469a1f",
   "metadata": {},
   "outputs": [
    {
     "data": {
      "text/plain": [
       "0.9666666666666667"
      ]
     },
     "execution_count": 19,
     "metadata": {},
     "output_type": "execute_result"
    }
   ],
   "source": [
    "classification_rbf.score(x_test,y_test)"
   ]
  }
 ],
 "metadata": {
  "kernelspec": {
   "display_name": "Python 3 (ipykernel)",
   "language": "python",
   "name": "python3"
  },
  "language_info": {
   "codemirror_mode": {
    "name": "ipython",
    "version": 3
   },
   "file_extension": ".py",
   "mimetype": "text/x-python",
   "name": "python",
   "nbconvert_exporter": "python",
   "pygments_lexer": "ipython3",
   "version": "3.11.4"
  }
 },
 "nbformat": 4,
 "nbformat_minor": 5
}
